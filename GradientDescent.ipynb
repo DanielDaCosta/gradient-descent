{
 "cells": [
  {
   "cell_type": "markdown",
   "metadata": {},
   "source": [
    "# Importing Packages"
   ]
  },
  {
   "cell_type": "code",
   "execution_count": 3,
   "metadata": {},
   "outputs": [],
   "source": [
    "import numpy as np\n",
    "import matplotlib.pyplot as plt"
   ]
  },
  {
   "cell_type": "markdown",
   "metadata": {},
   "source": [
    "# Functions for optimization"
   ]
  },
  {
   "cell_type": "code",
   "execution_count": 194,
   "metadata": {},
   "outputs": [],
   "source": [
    "def f(x):\n",
    "    \"\"\"Apply function to point x\n",
    "    \n",
    "    Args:\n",
    "        x (float): point on x-axis\n",
    "        \n",
    "    Returns:\n",
    "        (float): f(x)\n",
    "    \"\"\"\n",
    "    functions = {\n",
    "        'f1': 0.1*x**2 + np.sin(0.1*x**2),\n",
    "        'f2': 4*x**2,\n",
    "        'f3': x**3 - 12*x**2 + 36*x, # EXPLODE\n",
    "        'f4': 5*x**6 - 36*x**5 + 165/2*x**4 - 60*x**3 + 36\n",
    "    }\n",
    "    return functions['f1']"
   ]
  },
  {
   "cell_type": "code",
   "execution_count": 195,
   "metadata": {},
   "outputs": [],
   "source": [
    "def df(x):\n",
    "    \"\"\"Apply function gradient to point x\n",
    "    \n",
    "    Args:\n",
    "        x (float): point on x-axis\n",
    "        \n",
    "    Returns:\n",
    "        (float): df(x)\n",
    "    \"\"\"\n",
    "    dfunctions = {\n",
    "        'df1': 0.2*x + 0.2*x*np.cos(0.1*x**2),\n",
    "        'df2': 8*x,\n",
    "        'df3': 3*x**2 -24*x + 36,\n",
    "        'df4': 30*x**5 -180*x**4 + 330*x**3 - 180*x**2\n",
    "    }\n",
    "    return dfunctions['df1']"
   ]
  },
  {
   "cell_type": "code",
   "execution_count": 6,
   "metadata": {},
   "outputs": [],
   "source": [
    "def plot_2D_function(f, x1, x2, n_points = 100):\n",
    "    \"\"\"Plotting function between interval (x1,x2)\n",
    "    \n",
    "    Args:\n",
    "        x1 (float): start of interval\n",
    "        x2 (float): end of interval\n",
    "        n_points (int, optional): number of point to be plotted\n",
    "        \n",
    "    Returns:\n",
    "        None\n",
    "    \"\"\"\n",
    "    \n",
    "    plt.figure(figsize = (20,20))\n",
    "    x_axis = np.linspace(x1, x2, n_points)\n",
    "    y_x = f(x_axis) \n",
    "    \n",
    "    plt.plot(x_axis, y_x)\n",
    "    plt.ylabel('f(x)')\n",
    "    plt.xlabel('x')"
   ]
  },
  {
   "cell_type": "markdown",
   "metadata": {},
   "source": [
    "# Error Class"
   ]
  },
  {
   "cell_type": "code",
   "execution_count": 7,
   "metadata": {},
   "outputs": [],
   "source": [
    "class ConvergencePointsValueError(Exception):\n",
    "    \"\"\"Exception class for handling ConvergencePoints error: when the\n",
    "    optimization algorithm hasn't been ran, and its results are accesed by mistake.\n",
    "    \n",
    "    Attributes:\n",
    "        message (str): error message\n",
    "    \n",
    "    \"\"\"\n",
    "    def __init__(self, message):    \n",
    "        self.message = message\n",
    "        \n",
    "    def __str__(self):\n",
    "        return repr(self.message)"
   ]
  },
  {
   "cell_type": "markdown",
   "metadata": {},
   "source": [
    "# Gradient Descent"
   ]
  },
  {
   "cell_type": "code",
   "execution_count": 120,
   "metadata": {},
   "outputs": [],
   "source": [
    "class GradientDescent():\n",
    "    \"\"\"Class containing differents methods for applying gradient descent method \n",
    "    for single variable function\n",
    "    \n",
    "    Attributes:\n",
    "        f (function): function for optimization\n",
    "        df (function): first derivation of the function\n",
    "        x_t (float): starting variable for analysis\n",
    "        learning_rate (float): learning rate\n",
    "        tolerance (int): tolerance for the distance between two consecutive \n",
    "        estimates in a subsequence that converges\n",
    "        max_iterations (int): maximum number of iterations\n",
    "        convergence_points (list): list to store the history of points during optimization\n",
    "        n_iterations (int): number of iterations for convegence\n",
    "    \"\"\"\n",
    "    \n",
    "    def __init__(self, f, df, x_t, learning_rate = 1e-3, tolerance = 1e-6, max_iterations = 1000, \n",
    "                 n_history_points = 1000):   \n",
    "        \"\"\"Initiazes class\n",
    "        \n",
    "        Args:\n",
    "            f (function): function for optimization\n",
    "            df (function): first derivation of the function\n",
    "            x_t (float): starting variable for analysis\n",
    "            learning_rate (float, optional): learning rate\n",
    "            tolerance (int, optional): tolerance for the distance between two consecutive \n",
    "            estimates in a subsequence that converges\n",
    "            max_iterations (int, optional): maximum number of iterations\n",
    "            n_history_points (int, optional): total amount of history points to be saved during optization\n",
    "        \n",
    "        Returns:\n",
    "            None \n",
    "        \"\"\"\n",
    "        self.f = f\n",
    "        self.df = df\n",
    "        self.x_t = x_t\n",
    "        self.learning_rate = learning_rate\n",
    "        self.tolerance = tolerance\n",
    "        self.max_iterations = max_iterations\n",
    "        self.convergence_points = np.array([None]*n_history_points)\n",
    "        self.n_iterations = 0\n",
    "    \n",
    "    def _update_parameter(self, x_t):\n",
    "        \"\"\"Computes the current update vector for GradientDescent\n",
    "        \n",
    "        Params:\n",
    "            x_t (float): point for calculation\n",
    "        \n",
    "        Returns:\n",
    "            (float): update amount\n",
    "        \"\"\"\n",
    "        return self.learning_rate*self.df(x_t)\n",
    "        \n",
    "\n",
    "    def fit(self):\n",
    "        \"\"\"Optimization Algorithm\n",
    "        \n",
    "        Args:\n",
    "            None\n",
    "        \n",
    "        Returns:\n",
    "            (float) : local minimum measured by the algorithm  \n",
    "        \"\"\"\n",
    "        # Compute First Interation     \n",
    "        # Set new x_{t+1} = x_{t} - lambda*f'(x_{t})\n",
    "        n_iteration = 1 # iteration step\n",
    "        n_convergence_points = 0 # iteration step of list convergence_points\n",
    "        \n",
    "        x_t = self.x_t\n",
    "        x_t_1 = x_t - self._update_parameter(x_t)\n",
    "        \n",
    "        self.convergence_points[n_convergence_points] = x_t\n",
    "        \n",
    "        while (np.abs(x_t_1 - x_t) > self.tolerance) and (n_iteration <= self.max_iterations):\n",
    "            try: \n",
    "                # Update x_t\n",
    "                x_t = x_t_1\n",
    "                x_t_1 = x_t - self._update_parameter(x_t)\n",
    "\n",
    "\n",
    "                # Stores some convergence points. Stores points that are divisible by max_iterations*0.01\n",
    "                # Only some random points are stored in order not to create a too big list and ending up \n",
    "                # slowing down performance.\n",
    "                if (n_iteration%(self.max_iterations*0.01) == 0):\n",
    "                    n_convergence_points+= 1\n",
    "                    self.convergence_points[n_convergence_points] = x_t\n",
    "                    if(n_convergence_points == (len(self.convergence_points) - 1)):\n",
    "                        n_convergence_points = 0\n",
    "\n",
    "                n_iteration += 1\n",
    "                \n",
    "            except OverflowError as err:\n",
    "                print('Overflowed exception raised. The value of the function exploded. Try reducing the learning_rate')\n",
    "                return err\n",
    "        \n",
    "        # If convergence_points list isn't completed, select only the non-null values.\n",
    "        self.convergence_points = self.convergence_points[self.convergence_points != None].astype(float)\n",
    "        \n",
    "        self.n_iterations = n_iteration\n",
    "        \n",
    "        return x_t_1\n",
    "    \n",
    "    def get_n_iteration(self):\n",
    "        \"\"\"Get numbers of iterations required for optimization\n",
    "        \n",
    "        Args:\n",
    "            None\n",
    "        \n",
    "        Returns:\n",
    "            (int): number of iterations required\n",
    "        \"\"\"\n",
    "        return self.n_iterations\n",
    "        \n",
    "    def plot_optimization(self, x1 = None, x2 = None, n_points = 100):\n",
    "        \"\"\"Plotting function between interval (x1,x2)\n",
    "\n",
    "        Args:\n",
    "            x1 (float, optional): start of interval\n",
    "            x2 (float, optional): end of interval\n",
    "            n_points (int, optional): number of point to be plotted between x1 and x2\n",
    "\n",
    "        Returns:\n",
    "            None\n",
    "        \"\"\"\n",
    "        try: \n",
    "            if (len(self.convergence_points[self.convergence_points == None])):\n",
    "                raise ConvergencePointsValueError('Empty x-axis. No Convergence Points')\n",
    "                \n",
    "            x1 = x1 or min(self.convergence_points)\n",
    "            x2 = x2 or max(self.convergence_points)\n",
    "\n",
    "            x_axis = np.linspace(x1, x2, n_points)\n",
    "            y_x = self.f(x_axis) \n",
    "\n",
    "            plt.plot(x_axis, y_x, color = 'blue')\n",
    "            plt.ylabel('f(x)')\n",
    "            plt.xlabel('x')\n",
    "\n",
    "            #Plot points on f(x)\n",
    "            plt.plot(self.convergence_points, self.f(self.convergence_points), 'bo', color = 'red')\n",
    "            plt.show()\n",
    "            \n",
    "        except ConvergencePointsValueError as err:\n",
    "            print('Please, run the fit() method first: ', err)"
   ]
  },
  {
   "cell_type": "markdown",
   "metadata": {},
   "source": [
    "# Momentum"
   ]
  },
  {
   "cell_type": "code",
   "execution_count": 172,
   "metadata": {},
   "outputs": [],
   "source": [
    "class Momentum(GradientDescent):\n",
    "    \"\"\"This method is used to accelerate the gradient descent algorithm by taking into\n",
    "    consideration the exponentially weighted average of the gradients.\n",
    "    \n",
    "    Attributes:\n",
    "        f (function): function for optimization\n",
    "        df (function): first derivation of the function\n",
    "        x_t (float): starting variable for analysis\n",
    "        learning_rate (float): learning rate\n",
    "        tolerance (int): tolerance for the distance between two consecutive \n",
    "        estimates in a subsequence that converges\n",
    "        max_iterations (int): maximum number of iterations\n",
    "        convergence_points (list): list to store the history of points during optimization\n",
    "        n_iterations (int): number of iterations for convegence\n",
    "        beta_1 (float): fraction of the update vector of the past time step to the current update \n",
    "        v_t (float): Parameter for Momentum optimization\n",
    "        v_t_1 (float): Parameter for Momentum optimization\n",
    "    \"\"\"\n",
    "    \n",
    "    def __init__(self, f, df, x_t, learning_rate = 1e-3, tolerance = 1e-6, max_iterations = 1000, \n",
    "                 n_history_points = 1000, beta_1 = 0.9):\n",
    "        \"\"\"Constructor\n",
    "        Args:\n",
    "            f (function): function for optimization\n",
    "            df (function): first derivation of the function\n",
    "            x_t (float): starting variable for analysis\n",
    "            learning_rate (float, optional): learning rate\n",
    "            tolerance (int, optional): tolerance for the distance between two consecutive \n",
    "            estimates in a subsequence that converges\n",
    "            max_iterations (int, optional): maximum number of iterations\n",
    "            n_history_points (int, optional): total amount of history points to be saved during optization\n",
    "            beta_1 (float, optional): fraction of the update vector of the past time step to the current update \n",
    "        \n",
    "        Returns:\n",
    "            None    \n",
    "        \"\"\"\n",
    "        GradientDescent.__init__(self, f, df, x_t, learning_rate, tolerance, max_iterations, n_history_points)\n",
    "        self.beta_1 = beta_1\n",
    "        self.__v_t = 0\n",
    "        self.__v_t_1 = 0  \n",
    "        \n",
    "    def _update_parameter(self, x_t):\n",
    "        \"\"\"Computes the current update vector for Momentum\n",
    "\n",
    "        Params:\n",
    "            x_t (float): point for calculation\n",
    "\n",
    "        Returns:\n",
    "            (float): update amount\n",
    "        \"\"\"\n",
    "        self.__v_t_1 = self.beta_1*self.__v_t + (1 - self.beta_1)*self.df(x_t)\n",
    "        self.__v_t = self.__v_t_1\n",
    "        \n",
    "        return self.learning_rate*self.__v_t_1        "
   ]
  },
  {
   "cell_type": "markdown",
   "metadata": {},
   "source": [
    "# RMSprop"
   ]
  },
  {
   "cell_type": "code",
   "execution_count": 173,
   "metadata": {},
   "outputs": [],
   "source": [
    "class RMSprop(GradientDescent):\n",
    "    \"\"\"This algorithm follows the inuition about applying \n",
    "    an exponentially weighted average method to the second moment of the gradients (df2)\n",
    "    \n",
    "    Attributes:\n",
    "        f (function): function for optimization\n",
    "        df (function): first derivation of the function\n",
    "        x_t (float): starting variable for analysis\n",
    "        learning_rate (float): learning rate\n",
    "        tolerance (int): tolerance for the distance between two consecutive \n",
    "        estimates in a subsequence that converges\n",
    "        max_iterations (int): maximum number of iterations\n",
    "        convergence_points (list): list to store the history of points during optimization\n",
    "        n_iterations (int): number of iterations for convegence\n",
    "        beta_2 (float): fraction of the past vector that contains an \n",
    "        exponentially decaying average of squared gradients\n",
    "        s_t (float): Parameter for optimization of RMSprop\n",
    "        s_t_1 (float): Parameter for optimization of RMSprop\n",
    "    \"\"\"\n",
    "    \n",
    "    def __init__(self, f, df, x_t, learning_rate = 1e-3, tolerance = 1e-6, max_iterations = 1000, \n",
    "                 n_history_points = 1000, beta_2 = 0.9):\n",
    "        \"\"\"Constructor\n",
    "        Args:\n",
    "            f (function): function for optimization\n",
    "            df (function): first derivation of the function\n",
    "            x_t (float): starting variable for analysis\n",
    "            learning_rate (float, optional): learning rate\n",
    "            tolerance (int, optional): tolerance for the distance between two consecutive \n",
    "            estimates in a subsequence that converges\n",
    "            max_iterations (int, optional): maximum number of iterations\n",
    "            n_history_points (int, optional): total amount of history points to be saved during optization\n",
    "            beta_2 (float, optional): fraction of the past vector that contains an \n",
    "            exponentially decaying average of squared gradients \n",
    "        \n",
    "        Returns:\n",
    "            None\n",
    "        \"\"\"\n",
    "        GradientDescent.__init__(self, f, df, x_t, learning_rate, tolerance, max_iterations, n_history_points)\n",
    "        self.beta_2 = beta_2\n",
    "        self.__s_t = 0\n",
    "        self.__s_t_1 = 0\n",
    "    \n",
    "    def _update_parameter(self, x_t):\n",
    "        \"\"\"Computes the current update vector for RMSprop\n",
    "\n",
    "        Params:\n",
    "            x_t (float): point for calculation\n",
    "\n",
    "        Returns:\n",
    "            (float): update amount\n",
    "            \n",
    "        \"\"\"\n",
    "        epsilon = 1e-8\n",
    "        \n",
    "        self.__s_t_1 = self.beta_2*self.__s_t + (1 - self.beta_2)*self.df(x_t)**2\n",
    "        self.__s_t = self.__s_t_1\n",
    "        \n",
    "        return self.learning_rate*self.df(x_t)/(np.sqrt(self.__s_t_1) + epsilon)"
   ]
  },
  {
   "cell_type": "markdown",
   "metadata": {},
   "source": [
    "# Nesterov Accelerated Gradient"
   ]
  },
  {
   "cell_type": "code",
   "execution_count": 313,
   "metadata": {},
   "outputs": [],
   "source": [
    "class NAG(GradientDescent):\n",
    "    \"\"\" NAG, Nesterov Accelerated Gradient, computes the function derivative base on the \n",
    "    next position of the paramente. Looking ahead helps NAG in correcting its course quicker than \n",
    "    Momentum based gradient descent.\n",
    "    \n",
    "    Attributes:\n",
    "        f (function): function for optimization\n",
    "        df (function): first derivation of the function\n",
    "        x_t (float): starting variable for analysis\n",
    "        learning_rate (float): learning rate\n",
    "        tolerance (int): tolerance for the distance between two consecutive \n",
    "        estimates in a subsequence that converges\n",
    "        max_iterations (int): maximum number of iterations\n",
    "        convergence_points (list): list to store the history of points during optimization\n",
    "        n_iterations (int): number of iterations for convegence\n",
    "        beta_2 (float): fraction of the past vector that contains an \n",
    "        exponentially decaying average of squared gradients\n",
    "        u_t (float): Parameter for NAG optimization\n",
    "        u_t_1 (float): Parameter for NAG optimization\n",
    "    \n",
    "    \"\"\"\n",
    "    \n",
    "    def __init__(self, f, df, x_t, learning_rate = 1e-3, tolerance = 1e-6, max_iterations = 1000, \n",
    "                 n_history_points = 1000, gamma = 0.9):\n",
    "        GradientDescent.__init__(self, f, df, x_t, learning_rate, tolerance, max_iterations, \n",
    "                 n_history_points)\n",
    "        self.gamma = gamma\n",
    "        self.__u_t = 0\n",
    "        self.__u_t_1 = 0\n",
    "        \n",
    "    def _update_parameter(self, x_t):\n",
    "        \"\"\"Computes the current update vector for Nesterov accelerated gradient\n",
    "\n",
    "        Params:\n",
    "            x_t (float): point for calculation\n",
    "\n",
    "        Returns:\n",
    "            (float): update amount\n",
    "            \n",
    "        \"\"\"\n",
    "        self.__u_t_1 = self.gamma*self.__u_t + self.learning_rate*self.df(x_t - self.gamma*self.__u_t)\n",
    "        self.__u_t = self.__u_t_1\n",
    "        return self.__u_t_1"
   ]
  },
  {
   "cell_type": "code",
   "execution_count": 309,
   "metadata": {},
   "outputs": [],
   "source": [
    "test = NAG(f, df, 13, learning_rate = 0.01, max_iterations = 500)"
   ]
  },
  {
   "cell_type": "code",
   "execution_count": 310,
   "metadata": {},
   "outputs": [
    {
     "data": {
      "text/plain": [
       "0.00017882904851489732"
      ]
     },
     "execution_count": 310,
     "metadata": {},
     "output_type": "execute_result"
    }
   ],
   "source": [
    "test.fit()"
   ]
  },
  {
   "cell_type": "code",
   "execution_count": 311,
   "metadata": {},
   "outputs": [
    {
     "data": {
      "text/plain": [
       "290"
      ]
     },
     "execution_count": 311,
     "metadata": {},
     "output_type": "execute_result"
    }
   ],
   "source": [
    "test.get_n_iteration()"
   ]
  },
  {
   "cell_type": "code",
   "execution_count": 312,
   "metadata": {
    "scrolled": true
   },
   "outputs": [
    {
     "data": {
      "image/png": "[encoded data removed]",
      "text/plain": [
       "<Figure size 432x288 with 1 Axes>"
      ]
     },
     "metadata": {
      "needs_background": "light"
     },
     "output_type": "display_data"
    }
   ],
   "source": [
    "test.plot_optimization(-20, 20)"
   ]
  },
  {
   "cell_type": "code",
   "execution_count": 303,
   "metadata": {},
   "outputs": [],
   "source": [
    "test = RMSprop(f, df, 13, learning_rate = 0.01, max_iterations = 500)"
   ]
  },
  {
   "cell_type": "code",
   "execution_count": 304,
   "metadata": {},
   "outputs": [
    {
     "data": {
      "text/plain": [
       "12.533159863939243"
      ]
     },
     "execution_count": 304,
     "metadata": {},
     "output_type": "execute_result"
    }
   ],
   "source": [
    "test.fit()"
   ]
  },
  {
   "cell_type": "code",
   "execution_count": 305,
   "metadata": {},
   "outputs": [
    {
     "data": {
      "text/plain": [
       "220"
      ]
     },
     "execution_count": 305,
     "metadata": {},
     "output_type": "execute_result"
    }
   ],
   "source": [
    "test.get_n_iteration()"
   ]
  },
  {
   "cell_type": "code",
   "execution_count": 306,
   "metadata": {
    "scrolled": true
   },
   "outputs": [
    {
     "data": {
      "image/png": "[encoded data removed]",
      "text/plain": [
       "<Figure size 432x288 with 1 Axes>"
      ]
     },
     "metadata": {
      "needs_background": "light"
     },
     "output_type": "display_data"
    }
   ],
   "source": [
    "test.plot_optimization(-20, 20)"
   ]
  },
  {
   "cell_type": "code",
   "execution_count": 274,
   "metadata": {},
   "outputs": [],
   "source": [
    "test = Momentum(f, df, 10, learning_rate = 1, max_iterations = 500)"
   ]
  },
  {
   "cell_type": "code",
   "execution_count": 275,
   "metadata": {},
   "outputs": [
    {
     "data": {
      "text/plain": [
       "-0.00010910881397322907"
      ]
     },
     "execution_count": 275,
     "metadata": {},
     "output_type": "execute_result"
    }
   ],
   "source": [
    "test.fit()"
   ]
  },
  {
   "cell_type": "code",
   "execution_count": 276,
   "metadata": {},
   "outputs": [
    {
     "data": {
      "text/plain": [
       "223"
      ]
     },
     "execution_count": 276,
     "metadata": {},
     "output_type": "execute_result"
    }
   ],
   "source": [
    "test.get_n_iteration()"
   ]
  },
  {
   "cell_type": "code",
   "execution_count": 277,
   "metadata": {
    "scrolled": true
   },
   "outputs": [
    {
     "data": {
      "image/png": "[encoded data removed]",
      "text/plain": [
       "<Figure size 432x288 with 1 Axes>"
      ]
     },
     "metadata": {
      "needs_background": "light"
     },
     "output_type": "display_data"
    }
   ],
   "source": [
    "test.plot_optimization(-20, 20)"
   ]
  },
  {
   "cell_type": "code",
   "execution_count": 278,
   "metadata": {},
   "outputs": [],
   "source": [
    "test = GradientDescent(f, df, 10, learning_rate = 0.1, max_iterations = 1000)"
   ]
  },
  {
   "cell_type": "code",
   "execution_count": 279,
   "metadata": {},
   "outputs": [
    {
     "data": {
      "text/plain": [
       "9.710814912336899"
      ]
     },
     "execution_count": 279,
     "metadata": {},
     "output_type": "execute_result"
    }
   ],
   "source": [
    "test.fit()"
   ]
  },
  {
   "cell_type": "code",
   "execution_count": 280,
   "metadata": {},
   "outputs": [
    {
     "data": {
      "text/plain": [
       "1001"
      ]
     },
     "execution_count": 280,
     "metadata": {},
     "output_type": "execute_result"
    }
   ],
   "source": [
    "test.get_n_iteration()"
   ]
  },
  {
   "cell_type": "code",
   "execution_count": 282,
   "metadata": {
    "scrolled": true
   },
   "outputs": [
    {
     "data": {
      "image/png": "[encoded data removed]",
      "text/plain": [
       "<Figure size 432x288 with 1 Axes>"
      ]
     },
     "metadata": {
      "needs_background": "light"
     },
     "output_type": "display_data"
    }
   ],
   "source": [
    "test.plot_optimization(-20, 20)"
   ]
  },
  {
   "cell_type": "markdown",
   "metadata": {},
   "source": [
    "# Test"
   ]
  },
  {
   "cell_type": "code",
   "execution_count": 113,
   "metadata": {},
   "outputs": [],
   "source": [
    "test = GradientDescent(f, df, 2.8, learning_rate = 0.001, max_iterations = 300)"
   ]
  },
  {
   "cell_type": "code",
   "execution_count": 114,
   "metadata": {},
   "outputs": [
    {
     "data": {
      "text/plain": [
       "0.24955791569460645"
      ]
     },
     "execution_count": 114,
     "metadata": {},
     "output_type": "execute_result"
    }
   ],
   "source": [
    "test.fit()"
   ]
  },
  {
   "cell_type": "code",
   "execution_count": 115,
   "metadata": {},
   "outputs": [
    {
     "data": {
      "image/png": "[encoded data removed]",
      "text/plain": [
       "<Figure size 432x288 with 1 Axes>"
      ]
     },
     "metadata": {
      "needs_background": "light"
     },
     "output_type": "display_data"
    }
   ],
   "source": [
    "test.plot_optimization(-10,10)"
   ]
  },
  {
   "cell_type": "code",
   "execution_count": 97,
   "metadata": {},
   "outputs": [
    {
     "data": {
      "text/plain": [
       "173"
      ]
     },
     "execution_count": 97,
     "metadata": {},
     "output_type": "execute_result"
    }
   ],
   "source": [
    "test.get_n_iteration()"
   ]
  },
  {
   "cell_type": "code",
   "execution_count": null,
   "metadata": {},
   "outputs": [],
   "source": []
  }
 ],
 "metadata": {
  "kernelspec": {
   "display_name": "optimization",
   "language": "python",
   "name": "optimization"
  },
  "language_info": {
   "codemirror_mode": {
    "name": "ipython",
    "version": 3
   },
   "file_extension": ".py",
   "mimetype": "text/x-python",
   "name": "python",
   "nbconvert_exporter": "python",
   "pygments_lexer": "ipython3",
   "version": "3.7.5"
  }
 },
 "nbformat": 4,
 "nbformat_minor": 4
}
